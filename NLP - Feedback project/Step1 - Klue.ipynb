{
 "cells": [
  {
   "cell_type": "markdown",
   "id": "4126a879",
   "metadata": {},
   "source": [
    "# Step 1"
   ]
  },
  {
   "cell_type": "code",
   "execution_count": 1,
   "id": "da3b8df3",
   "metadata": {},
   "outputs": [],
   "source": [
    "import numpy as np\n",
    "from transformers import AutoTokenizer, AutoModel\n",
    "from scipy.spatial.distance import cosine\n",
    "import os\n",
    "import pandas as pd\n",
    "import openai\n",
    "import matplotlib.pyplot as plt"
   ]
  },
  {
   "attachments": {},
   "cell_type": "markdown",
   "id": "e723e1e7",
   "metadata": {},
   "source": [
    "# Provide data -> EDA & Generating raw questions\n",
    "- GPT3.5에 한의원 data(csv) 제공 \n",
    "- EDA & 초기 날질문 생성"
   ]
  },
  {
   "attachments": {},
   "cell_type": "markdown",
   "id": "f111c652",
   "metadata": {},
   "source": [
    "#### 함수 정의"
   ]
  },
  {
   "cell_type": "code",
   "execution_count": 2,
   "id": "ca820bba",
   "metadata": {},
   "outputs": [],
   "source": [
    "def gpt_answer(msg):\n",
    "\n",
    "    openai.api_key=\"****\"\n",
    "\n",
    "    answer = []\n",
    "\n",
    "    completion = openai.ChatCompletion.create(\n",
    "        model = \"gpt-3.5-turbo\",\n",
    "        messages=[{\"role\": \"system\", \"content\": \"You are a helpful assistant.\"},\n",
    "                    {\"role\": \"user\", \"content\": msg}]\n",
    "        )\n",
    "\n",
    "    for choice in completion.choices:\n",
    "        print(choice['message']['content'])\n",
    "        answer.append(choice['message']['content'].strip())\n",
    "\n",
    "    return answer\n",
    "\n",
    "def csv_reading(path):\n",
    "    df = pd.read_csv(path)\n",
    "    df = df.drop(['fk_id'], axis = 1)\n",
    "    return df\n",
    "\n",
    "\n",
    "def compare_graph(path):\n",
    "\n",
    "    # Read the CSV file\n",
    "    data = pd.read_csv(path)\n",
    "\n",
    "    # Extract the data for x and y axes from the CSV columns\n",
    "    x_values = data.iloc[:, 1]  # Assuming x-values are in the first column\n",
    "    y_values = data.iloc[:, 2]  # Extract y-values from the second column\n",
    "\n",
    "    # Create the bar graph\n",
    "    plt.bar(x_values, y_values)\n",
    "\n",
    "    # Rotate x-axis labels\n",
    "    plt.xticks(rotation=90)\n",
    "\n",
    "    # Add labels and title\n",
    "    plt.xlabel('X-axis')\n",
    "    plt.ylabel('Y-axis')\n",
    "    plt.title('Bar Graph from CSV Data')\n",
    "\n",
    "    # Display the graph\n",
    "    plt.show()"
   ]
  },
  {
   "cell_type": "code",
   "execution_count": 3,
   "id": "517f9ee4",
   "metadata": {},
   "outputs": [
    {
     "data": {
      "image/png": "[encoded data removed]",
      "text/plain": [
       "<Figure size 640x480 with 1 Axes>"
      ]
     },
     "metadata": {},
     "output_type": "display_data"
    },
    {
     "name": "stdout",
     "output_type": "stream",
     "text": [
      "1. 2020년 12월 이후에 비급여 총매출이 급격히 상승한 이유가 무엇인가요?\n",
      "2. 2021년 3월과 5월 사이에 비급여 총매출이 크게 증가한 이유가 있나요?\n",
      "3. 2021년 9월 비급여 총매출이 이전 달 대비 큰 폭으로 증가한 이유가 있나요?\n",
      "4. 2021년 상반기와 하반기 비급여 총매출의 차이가 큰 이유가 무엇인가요?\n",
      "5. 2018년부터 2021년까지 전반적인 비급여 총매출의 추세는 어떤가요? 변화가 있는지 분석해보세요.\n"
     ]
    }
   ],
   "source": [
    "path = '/home/fastcampus/Test_model /매출 데이터셋/비급여 총매출.csv/365송도경희한의원 비급여 총매출.csv'\n",
    "df = csv_reading(path)\n",
    "\n",
    "prompt = f\"다음 주어지는 테이블은 csv 형식의 테이블이야 {df.to_string(index=False)}.  이 테이블에서 'biz_dt'는 '날짜'를 의미하며, 'nonbenefit_total_pay'는 '비급여 총매출'을 의미해. 위 테이블 데이터를 종합하여 특이점과 변동하는 값들에 기반하여 이 병원을 위한 피드백 질문 5가지를 생성해줘. 이때, 값이 없는 부분은 무시하고, 구체적인 날짜를 언급해줘.\"\n",
    "\n",
    "compare_graph(path)\n",
    "raw_qs = gpt_answer(prompt)"
   ]
  },
  {
   "cell_type": "code",
   "execution_count": 4,
   "id": "eb308bb3",
   "metadata": {},
   "outputs": [
    {
     "name": "stdout",
     "output_type": "stream",
     "text": [
      "1. 2020년 12월 이후에 비급여 총매출이 급격히 상승한 이유가 무엇인가요?\n",
      "2. 2021년 3월과 5월 사이에 비급여 총매출이 크게 증가한 이유가 있나요?\n",
      "3. 2021년 9월 비급여 총매출이 이전 달 대비 큰 폭으로 증가한 이유가 있나요?\n",
      "4. 2021년 상반기와 하반기 비급여 총매출의 차이가 큰 이유가 무엇인가요?\n",
      "5. 2018년부터 2021년까지 전반적인 비급여 총매출의 추세는 어떤가요? 변화가 있는지 분석해보세요.\n"
     ]
    }
   ],
   "source": [
    "# 결과를 저장할 리스트\n",
    "raw_qs_list = []\n",
    "\n",
    "# 각 항목에 대해 '\\n'을 기준으로 분할\n",
    "for sentences in raw_qs:\n",
    "    split_sentences = sentences.split('\\n')\n",
    "    raw_qs_list.extend(split_sentences)\n",
    "\n",
    "# 결과 출력\n",
    "for sentence in raw_qs_list:\n",
    "    print(sentence)"
   ]
  },
  {
   "attachments": {},
   "cell_type": "markdown",
   "id": "fff37889",
   "metadata": {},
   "source": [
    "# Transformer - KLUE (Pretrained Model)\n",
    "- 기업에서 실제로 쓰이는 질문 중, 날질문과 유사한 질문 찾기"
   ]
  },
  {
   "cell_type": "code",
   "execution_count": null,
   "id": "3e51b81d",
   "metadata": {
    "scrolled": false
   },
   "outputs": [
    {
     "data": {
      "application/vnd.jupyter.widget-view+json": {
       "model_id": "067b230cc317437aa8f874e8f0e236a5",
       "version_major": 2,
       "version_minor": 0
      },
      "text/plain": [
       "Downloading (…)okenizer_config.json:   0%|          | 0.00/375 [00:00<?, ?B/s]"
      ]
     },
     "metadata": {},
     "output_type": "display_data"
    },
    {
     "data": {
      "application/vnd.jupyter.widget-view+json": {
       "model_id": "c5b7c59c021641688808ba000304bb31",
       "version_major": 2,
       "version_minor": 0
      },
      "text/plain": [
       "Downloading (…)solve/main/vocab.txt:   0%|          | 0.00/248k [00:00<?, ?B/s]"
      ]
     },
     "metadata": {},
     "output_type": "display_data"
    },
    {
     "data": {
      "application/vnd.jupyter.widget-view+json": {
       "model_id": "4f5c00610ee74a5a82ce48d3eadfbb86",
       "version_major": 2,
       "version_minor": 0
      },
      "text/plain": [
       "Downloading (…)/main/tokenizer.json:   0%|          | 0.00/752k [00:00<?, ?B/s]"
      ]
     },
     "metadata": {},
     "output_type": "display_data"
    },
    {
     "data": {
      "application/vnd.jupyter.widget-view+json": {
       "model_id": "d2e823674ac84f5caed1e82561cf30bd",
       "version_major": 2,
       "version_minor": 0
      },
      "text/plain": [
       "Downloading (…)cial_tokens_map.json:   0%|          | 0.00/173 [00:00<?, ?B/s]"
      ]
     },
     "metadata": {},
     "output_type": "display_data"
    },
    {
     "data": {
      "application/vnd.jupyter.widget-view+json": {
       "model_id": "9305da16c97d4e40929d1d4366a026db",
       "version_major": 2,
       "version_minor": 0
      },
      "text/plain": [
       "Downloading (…)lve/main/config.json:   0%|          | 0.00/546 [00:00<?, ?B/s]"
      ]
     },
     "metadata": {},
     "output_type": "display_data"
    },
    {
     "data": {
      "application/vnd.jupyter.widget-view+json": {
       "model_id": "e3169d896dee44ed8cd286cc2f57ec00",
       "version_major": 2,
       "version_minor": 0
      },
      "text/plain": [
       "Downloading pytorch_model.bin:   0%|          | 0.00/443M [00:00<?, ?B/s]"
      ]
     },
     "metadata": {},
     "output_type": "display_data"
    },
    {
     "name": "stderr",
     "output_type": "stream",
     "text": [
      "Some weights of the model checkpoint at KLUE/roberta-base were not used when initializing RobertaModel: ['lm_head.decoder.bias', 'lm_head.layer_norm.weight', 'lm_head.layer_norm.bias', 'lm_head.decoder.weight', 'lm_head.bias', 'lm_head.dense.bias', 'lm_head.dense.weight']\n",
      "- This IS expected if you are initializing RobertaModel from the checkpoint of a model trained on another task or with another architecture (e.g. initializing a BertForSequenceClassification model from a BertForPreTraining model).\n",
      "- This IS NOT expected if you are initializing RobertaModel from the checkpoint of a model that you expect to be exactly identical (initializing a BertForSequenceClassification model from a BertForSequenceClassification model).\n",
      "Some weights of RobertaModel were not initialized from the model checkpoint at KLUE/roberta-base and are newly initialized: ['roberta.pooler.dense.weight', 'roberta.pooler.dense.bias']\n",
      "You should probably TRAIN this model on a down-stream task to be able to use it for predictions and inference.\n"
     ]
    },
    {
     "name": "stdout",
     "output_type": "stream",
     "text": [
      "\n",
      "1. 2020년 12월부터 2021년 9월까지 비급여 총매출이 크게 상승했는데, 이유가 무엇인가요?와 가장 유사한 5개 질문:\n",
      "Top1 유사 질문: 전달대비 비급여매출이 39.9% 하락했습니다. 하락 요인이 무엇인가요? 작년 8월은 최고치를 경신했던 비급여 지표라, 어떤 차이가 있는지 여쭤봅니다. (유사도: 0.90)\n",
      "Top2 유사 질문: 4월 비급여가 가파르게 상승하여 최고기록 경신하셨습니다. 보약매출에 직접적으로 기여한 요소 무엇일까요? (유사도: 0.90)\n",
      "Top3 유사 질문: 총진료비와 비급여매출이 역대 최고 기록을 달성했습니다. 일반한약의 상승이 지속되고 이번달 최고매출액을 달성하였는데, 가정의달 이벤트의 연관성과 비중이 어떻게 되는 지 궁금합니다. (유사도: 0.89)\n",
      "Top4 유사 질문: 총매출과 비급여가 비슷한 경향성을 띕니다. 지난달 상승했던 한약 전환율이 유지되지 못한 이유는 뭘까요? 그리고 9월부터 재결제 데이터가 없는데요. 입력이 중단된 것일까요? (유사도: 0.89)\n",
      "Top5 유사 질문: 비급여 항목 중 다이어트는 9월부터 두달째 매출이 없는 상태입니다. 요인이 무엇인가요? (유사도: 0.89)\n",
      "\n",
      "2. 2021년 3월과 5월에 비급여 총매출이 갑자기 많이 증가했는데, 이는 어떤 원인 때문인가요?와 가장 유사한 5개 질문:\n",
      "Top1 유사 질문: 전달대비 비급여매출이 39.9% 하락했습니다. 하락 요인이 무엇인가요? 작년 8월은 최고치를 경신했던 비급여 지표라, 어떤 차이가 있는지 여쭤봅니다. (유사도: 0.91)\n",
      "Top2 유사 질문: 총진료비와 비급여매출이 역대 최고 기록을 달성했습니다. 일반한약의 상승이 지속되고 이번달 최고매출액을 달성하였는데, 가정의달 이벤트의 연관성과 비중이 어떻게 되는 지 궁금합니다. (유사도: 0.90)\n",
      "Top3 유사 질문: 총매출과 비급여가 비슷한 경향성을 띕니다. 지난달 상승했던 한약 전환율이 유지되지 못한 이유는 뭘까요? 그리고 9월부터 재결제 데이터가 없는데요. 입력이 중단된 것일까요? (유사도: 0.90)\n",
      "Top4 유사 질문: 비급여 매출이 최근 3개월 우상향하고 있습니다. 비급여 상담 프로토콜에 변화가 있나요? 어떤 성과라 보세요? 상세 답변 부탁드립니다. (유사도: 0.90)\n",
      "Top5 유사 질문: 비급여 녹용한약의 역대 최고매출을 기록했는데요, 이번달은 녹용한약 결제군이 많았던건가요? 다이어트 매출 공백이 지속되고 있습니다. 두가지 비급여 항목은 어떤 요인이 있었나요? 비급여 권유 진행 방식에 대해 말씀 부탁드립니다. (유사도: 0.90)\n",
      "\n",
      "3. 2020년 12월부터 2021년 2월까지 비급여 총매출이 0인 이유가 무엇인가요?와 가장 유사한 5개 질문:\n",
      "Top1 유사 질문: 비급여 항목 중 다이어트는 9월부터 두달째 매출이 없는 상태입니다. 요인이 무엇인가요? (유사도: 0.87)\n",
      "Top2 유사 질문: 2월 적은 진료일수임에도 비급여 매출은 작년 비급여 최고액에 가까웠습니다. 환자분께 먼저 비급여를 권유하고계실까요? 비급여 상담 프로세스 어떻게 셋팅되어 있으신 지 설명 부탁드립니다. (유사도: 0.85)\n",
      "Top3 유사 질문: 전달대비 비급여매출이 39.9% 하락했습니다. 하락 요인이 무엇인가요? 작년 8월은 최고치를 경신했던 비급여 지표라, 어떤 차이가 있는지 여쭤봅니다. (유사도: 0.85)\n",
      "Top4 유사 질문: 총매출과 비급여가 비슷한 경향성을 띕니다. 지난달 상승했던 한약 전환율이 유지되지 못한 이유는 뭘까요? 그리고 9월부터 재결제 데이터가 없는데요. 입력이 중단된 것일까요? (유사도: 0.84)\n",
      "Top5 유사 질문: 7월 전반적으로 비급여매출 줄어든 원인 어떻게 보고계세요? 3가지 말씀부탁드립니다. (유사도: 0.84)\n",
      "\n",
      "4. 2021년 9월에 비급여 총매출이 크게 증가한 이유가 무엇인가요?와 가장 유사한 5개 질문:\n",
      "Top1 유사 질문: 비급여 매출이 상승세입니다. 상담건수가 늘게된 요인이 무엇인가요? (유사도: 0.90)\n",
      "Top2 유사 질문: 3월 정신과 매출이 크게 상승하면서 비급여 매출을 반등 시켰습니다. 요인이 무엇인가요? (유사도: 0.90)\n",
      "Top3 유사 질문: 큰 폭으로 비급여 매출이 증가하게 된 원인은 무엇이라고 판단하시나요? (유사도: 0.90)\n",
      "Top4 유사 질문: 3월 비급여 상담건수 상승요인이 무엇인가요? (유사도: 0.89)\n",
      "Top5 유사 질문: 6월부터 비급여매출 우상향입니다. 특히 이번달 비급여가 더 나왔는데 어떤 요인이 작용했나요? (유사도: 0.89)\n",
      "\n",
      "5. 2021년 8월 비급여 총매출이 상승하는 것 처럼 보이는데, 이는 평균적인 수치에서 변동이 아니라 일시적인 특이사항인가요?와 가장 유사한 5개 질문:\n",
      "Top1 유사 질문: 총매출과 비급여매출이 동일하게 움직입니다. 비급여 상담 건수는 늘어나는 데 비급여 치료 전환율이 떨어지는 것이 현재 문제지점으로 보여집니다. 상담 전환 실패 원인이 무엇일까요? 개선 전략을 말씀해주세요. (유사도: 0.90)\n",
      "Top2 유사 질문: 총매출 경향성을 보면 비급여 매출의 변동과 직접적인 연관이 있습니다. '통증프로그램3개월이상' 매출의 변동요인은 무엇이라 생각하시나요? 증대를 위한 개선 전략을 상세히 말씀 부탁드립니다. 심리적인 부분일까요? 프로그램의 변화로 인한 변화일까요? (유사도: 0.90)\n",
      "Top3 유사 질문: 총 진료비의 상승은 비급여매출의 상승과 연관이 있지만 3월달 대비 환자당 총진료비 금액이 낮아지며 총매출 추세의 변동이 없었습니다. 현재로는 비급여매출을 높이는게 방법으로 보입니다. 이를 위한 개선전략이 있으신가요? 구체적으로 우리가 3월만큼 비급여 지표를 달성하려면 어떻게 해야할까요? (유사도: 0.89)\n",
      "Top4 유사 질문: 7월 총진료비의 하락은 비급여 매출 감소의 결과입니다. 비급여 항목 전체가 떨어지고 있습니다. 환자수는 보합세이기 떄문에 비급여 전환율에서의 개선이 필요하다고 보여집니다. 상세전략 말씀주세요. (유사도: 0.89)\n",
      "Top5 유사 질문: 총진료비와 비급여매출이 역대 최고 기록을 달성했습니다. 일반한약의 상승이 지속되고 이번달 최고매출액을 달성하였는데, 가정의달 이벤트의 연관성과 비중이 어떻게 되는 지 궁금합니다. (유사도: 0.89)\n"
     ]
    }
   ],
   "source": [
    "tokenizer = AutoTokenizer.from_pretrained(\"KLUE/roberta-base\")\n",
    "model = AutoModel.from_pretrained(\"KLUE/roberta-base\")\n",
    "\n",
    "def get_sentence_embedding(sentence):\n",
    "    if not isinstance(sentence, str):\n",
    "        #print(\"문장은 문자열로 입력해주세요.\")\n",
    "        pass\n",
    "        return None\n",
    "\n",
    "    if not sentence.strip():\n",
    "        #print(\"비어있는 문자열은 처리할 수 없습니다.\")\n",
    "        pass\n",
    "        return None\n",
    "\n",
    "    inputs = tokenizer(sentence, return_tensors=\"pt\")\n",
    "    outputs = model(**inputs)\n",
    "    embeddings = outputs.last_hidden_state.mean(axis=1).detach().numpy()\n",
    "    return embeddings.reshape(-1)\n",
    "\n",
    "input_questions = raw_qs_list\n",
    "\n",
    "questions_df = pd.read_csv(\"train_question.csv\")\n",
    "questions = questions_df[\"질문\"].tolist()\n",
    "\n",
    "def get_top5_similar_questions(embed_question, questions):\n",
    "    if embed_question is None:\n",
    "        return [], []\n",
    "\n",
    "    similarities = []\n",
    "\n",
    "    for question in questions:\n",
    "        embed = get_sentence_embedding(question)\n",
    "        if embed is not None:\n",
    "            similarity = 1 - cosine(embed_question, embed)\n",
    "        else:\n",
    "            similarity = 0\n",
    "        similarities.append(similarity)\n",
    "\n",
    "    top5_indexes = np.argsort(similarities)[-5:][::-1]\n",
    "    top5_questions = [questions[i] for i in top5_indexes]\n",
    "    top5_similarities = [similarities[i] for i in top5_indexes]\n",
    "\n",
    "    return top5_questions, top5_similarities\n",
    "\n",
    "def print_top5_similar_questions(input_question, embed_input_question, questions):\n",
    "    top5_questions, top5_similarities = get_top5_similar_questions(embed_input_question, questions)\n",
    "\n",
    "    print(f\"\\n{input_question}와 가장 유사한 5개 질문:\")\n",
    "    for i, (question, similarity) in enumerate(zip(top5_questions, top5_similarities)):\n",
    "        print(f\"Top{i + 1} 유사 질문: {question} (유사도: {similarity:.2f})\")\n",
    "\n",
    "for input_question in input_questions:\n",
    "    embed_input_question = get_sentence_embedding(input_question)\n",
    "    print_top5_similar_questions(input_question, embed_input_question, questions)\n",
    "\n",
    "\n"
   ]
  },
  {
   "cell_type": "markdown",
   "id": "e0eaf939",
   "metadata": {},
   "source": [
    "# Fewshot Learning\n",
    "- 위 질문들 중, 유사도 높은 8개를 추려 GPT Fewshot Learning"
   ]
  },
  {
   "cell_type": "code",
   "execution_count": 6,
   "id": "3e4937da",
   "metadata": {},
   "outputs": [
    {
     "name": "stdout",
     "output_type": "stream",
     "text": [
      "1. 2021년 1월을 기준으로 비급여 매출이 크게 증가했는데, 이러한 증가는 어떤 책임과 목적으로 이루어졌나요? \n",
      "2. 2021년 2월 비급여 매출이 가장 낮았는데 이러한 감소는 어떤 요인에서 비롯됐나요? 이에 따른 비급여 매출의 추세 변화 예상치는 어떻게 되나요?\n",
      "3. 비급여 총매출이 계속해서 상승하고 있긴 하지만 차이가 매우 큽니다. 원인을 파악하여 비급여 매출을 더 증가시키기 위한 전략이 있나요?\n",
      "4. 데이터 상으로 비급여 매출 증감률이 큰 것으로 보입니다. 이러한 변동이 있기 전과 후의 예산 분석 등 경영에 대한 전략적인 대안을 강구하고 있는 건가요?\n",
      "5. 2021년 9월 부터 비급여 매출이 비약적으로 증가한데, 이러한 비율상승은 어떤 영향 요인이 있었나요? 그리고 이러한 경향은 추후에도 유지될지 예상이 되나요?\n"
     ]
    }
   ],
   "source": [
    "# GPT Fewshot-Learning\n",
    "\n",
    "test_data = pd.read_csv(\"/home/fastcampus/Test_model /매출 데이터셋/비급여 총매출.csv/365송도경희한의원 비급여 총매출.csv\")\n",
    "\n",
    "klue_questions = \"\"\"\n",
    "1. 큰 폭으로 비급여 매출이 증가하게 된 원인은 무엇이라고 판단하시나요? \n",
    "2. 전달대비 비급여매출이 39.9% 하락했습니다. 하락 요인이 무엇인가요? 작년 8월은 최고치를 경신했던 비급여 지표라, 어떤 차이가 있는지 여쭤봅니다. \n",
    "3. 비급여 매출의 영향으로 총매출이 줄었습니다. 비급여 전반적으로 감소한 것 같은데요. 무엇 때문인가요? \n",
    "4. 큰 폭으로 비급여 매출이 증가하게 된 원인은 무엇이라고 판단하시나요? \n",
    "5. 총 진료비의 상승은 비급여매출의 상승과 연관이 있지만 3월달 대비 환자당 총진료비 금액이 낮아지며 총매출 추세의 변동이 없었습니다. 현재로는 비급여매출을 높이는게 방법으로 보입니다. 이를 위한 개선전략이 있으신가요? 구체적으로 우리가 3월만큼 비급여 지표를 달성하려면 어떻게 해야할까요? \n",
    "6. 총매출과 비급여가 비슷한 경향성을 띕니다. 지난달 상승했던 한약 전환율이 유지되지 못한 이유는 뭘까요? 그리고 9월부터 재결제 데이터가 없는데요. 입력이 중단된 것일까요? \n",
    "7. 3월 비급여 상담건수 상승요인이 무엇인가요?\n",
    "8. 큰 폭으로 비급여 매출이 증가하게 된 원인은 무엇이라고 판단하시나요? \n",
    "\"\"\"\n",
    "\n",
    "conversation = [\n",
    "    {\n",
    "        \"role\": \"system\",\n",
    "        \"content\": \"아래 주어지는 테이블에서 'biz_dt'는 '날짜', 'nonbenefit_total_pay'는 '비급여 총매출'을 의미해. 'nonbenefit_total_pay'값이 없는 부분은 언급하면 안돼.\"\n",
    "    },\n",
    "    {\n",
    "        \"role\": \"user\",\n",
    "        \"content\": f\"\"\"\n",
    "        아래 테이블 데이터를 종합하여 증감률이나 큰 특이점을 기준으로 경영을 위한 창의적인 피드백 질문들을 5개 생성해줘.\n",
    "        생성 예시 : {klue_questions}\n",
    "        데이터 테이블 :\n",
    "        {test_data}\n",
    "        \"\"\"\n",
    "    },\n",
    "    {\n",
    "        \"role\": \"assistant\",\n",
    "        \"content\": \"...\"\n",
    "    }\n",
    "]\n",
    "\n",
    "import openai\n",
    "openai.api_key=\"****\"\n",
    "\n",
    "response = openai.ChatCompletion.create(\n",
    "  model=\"gpt-3.5-turbo\",\n",
    "  messages=conversation\n",
    ")\n",
    "\n",
    "print(response['choices'][0]['message']['content'])"
   ]
  }
 ],
 "metadata": {
  "kernelspec": {
   "display_name": "Python 3 (ipykernel)",
   "language": "python",
   "name": "python3"
  },
  "language_info": {
   "codemirror_mode": {
    "name": "ipython",
    "version": 3
   },
   "file_extension": ".py",
   "mimetype": "text/x-python",
   "name": "python",
   "nbconvert_exporter": "python",
   "pygments_lexer": "ipython3",
   "version": "3.10.6"
  }
 },
 "nbformat": 4,
 "nbformat_minor": 5
}
